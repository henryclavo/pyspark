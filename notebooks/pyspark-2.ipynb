{
 "cells": [
  {
   "cell_type": "code",
   "execution_count": 1,
   "id": "364ebd0f",
   "metadata": {},
   "outputs": [
    {
     "name": "stderr",
     "output_type": "stream",
     "text": [
      "WARNING: An illegal reflective access operation has occurred\n",
      "WARNING: Illegal reflective access by org.apache.spark.unsafe.Platform (file:/usr/local/spark-3.1.2-bin-hadoop3.2/jars/spark-unsafe_2.12-3.1.2.jar) to constructor java.nio.DirectByteBuffer(long,int)\n",
      "WARNING: Please consider reporting this to the maintainers of org.apache.spark.unsafe.Platform\n",
      "WARNING: Use --illegal-access=warn to enable warnings of further illegal reflective access operations\n",
      "WARNING: All illegal access operations will be denied in a future release\n",
      "21/10/06 00:24:00 WARN NativeCodeLoader: Unable to load native-hadoop library for your platform... using builtin-java classes where applicable\n",
      "Using Spark's default log4j profile: org/apache/spark/log4j-defaults.properties\n",
      "Setting default log level to \"WARN\".\n",
      "To adjust logging level use sc.setLogLevel(newLevel). For SparkR, use setLogLevel(newLevel).\n"
     ]
    },
    {
     "name": "stdout",
     "output_type": "stream",
     "text": [
      "+------------------+----+\n",
      "|              name| age|\n",
      "+------------------+----+\n",
      "|  Albus Dumbledore| 150|\n",
      "|Minerva McGonagall|  70|\n",
      "|     Rubeus Hagrid|  63|\n",
      "|       Oliver Wood|  18|\n",
      "|      Harry Potter|  12|\n",
      "|       Ron Weasley|  12|\n",
      "|          Hermione|  13|\n",
      "|      Draco Malfoy|null|\n",
      "+------------------+----+\n",
      "\n"
     ]
    }
   ],
   "source": [
    "import pyspark\n",
    "\n",
    "spark = pyspark.sql.SparkSession.builder\\\n",
    "    .appName('hogwarts')\\\n",
    "    .getOrCreate()\n",
    "\n",
    "characters = [\n",
    "    (\"Albus Dumbledore\", 150),\n",
    "    (\"Minerva McGonagall\", 70),\n",
    "    (\"Rubeus Hagrid\", 63),\n",
    "    (\"Oliver Wood\", 18),\n",
    "    (\"Harry Potter\", 12),\n",
    "    (\"Ron Weasley\", 12),\n",
    "    (\"Hermione\", 13),\n",
    "    (\"Draco Malfoy\", None)\n",
    "]\n",
    "\n",
    "c_df = spark.createDataFrame(characters, [\"name\", \"age\"])    \n",
    "\n",
    "c_df.show()"
   ]
  },
  {
   "cell_type": "code",
   "execution_count": 4,
   "id": "744bb0a4",
   "metadata": {},
   "outputs": [
    {
     "name": "stderr",
     "output_type": "stream",
     "text": [
      "WARNING: An illegal reflective access operation has occurred\n",
      "WARNING: Illegal reflective access by org.apache.spark.unsafe.Platform (file:/usr/local/spark-3.1.2-bin-hadoop3.2/jars/spark-unsafe_2.12-3.1.2.jar) to constructor java.nio.DirectByteBuffer(long,int)\n",
      "WARNING: Please consider reporting this to the maintainers of org.apache.spark.unsafe.Platform\n",
      "WARNING: Use --illegal-access=warn to enable warnings of further illegal reflective access operations\n",
      "WARNING: All illegal access operations will be denied in a future release\n",
      "21/10/06 00:41:53 WARN NativeCodeLoader: Unable to load native-hadoop library for your platform... using builtin-java classes where applicable\n",
      "Using Spark's default log4j profile: org/apache/spark/log4j-defaults.properties\n",
      "Setting default log level to \"WARN\".\n",
      "To adjust logging level use sc.setLogLevel(newLevel). For SparkR, use setLogLevel(newLevel).\n"
     ]
    }
   ],
   "source": [
    "import pandas as pd \n",
    "import numpy\n",
    "import matplotlib.pyplot as plt \n",
    "from pyspark.sql import SparkSession\n",
    "# create sparksession\n",
    "spark = SparkSession \\\n",
    "    .builder \\\n",
    "    .appName(\"Pysparkexample\") \\\n",
    "    .config(\"spark.some.config.option\", \"some-value\") \\\n",
    "    .getOrCreate()"
   ]
  },
  {
   "cell_type": "code",
   "execution_count": 5,
   "id": "88dbe083",
   "metadata": {},
   "outputs": [
    {
     "name": "stdout",
     "output_type": "stream",
     "text": [
      "115 ms ± 21.5 ms per loop (mean ± std. dev. of 7 runs, 1 loop each)\n"
     ]
    }
   ],
   "source": [
    "%%timeit\n",
    "df = spark.read.csv('Vermont_Vendor_Payments.csv', header=True)"
   ]
  },
  {
   "cell_type": "code",
   "execution_count": 7,
   "id": "a70fe4cf",
   "metadata": {},
   "outputs": [
    {
     "name": "stderr",
     "output_type": "stream",
     "text": [
      "                                                                                \r"
     ]
    }
   ],
   "source": [
    "df = spark.read.csv('Vermont_Vendor_Payments.csv', header='true', inferSchema = True)\n",
    "df = df.withColumn(\"Amount\", df[\"Amount\"].cast(\"double\"))\n"
   ]
  },
  {
   "cell_type": "code",
   "execution_count": 8,
   "id": "a9dec43a",
   "metadata": {},
   "outputs": [
    {
     "name": "stdout",
     "output_type": "stream",
     "text": [
      "The column Names are:\n",
      "Quarter Ending\n",
      "Department\n",
      "UnitNo\n",
      "Vendor Number\n",
      "Vendor\n",
      "City\n",
      "State\n",
      "DeptID Description\n",
      "DeptID\n",
      "Amount\n",
      "Account\n",
      "AcctNo\n",
      "Fund Description\n",
      "Fund\n"
     ]
    }
   ],
   "source": [
    "columns = df.columns\n",
    "print('The column Names are:')\n",
    "for i in columns:\n",
    "    print(i)"
   ]
  },
  {
   "cell_type": "code",
   "execution_count": 9,
   "id": "aafb691a",
   "metadata": {},
   "outputs": [
    {
     "name": "stdout",
     "output_type": "stream",
     "text": [
      "+--------------+--------------------+------+-------------+--------------------+------------+-----+--------------------+----------+---------+--------------------+------+--------------------+-----+\n",
      "|Quarter Ending|          Department|UnitNo|Vendor Number|              Vendor|        City|State|  DeptID Description|    DeptID|   Amount|             Account|AcctNo|    Fund Description| Fund|\n",
      "+--------------+--------------------+------+-------------+--------------------+------------+-----+--------------------+----------+---------+--------------------+------+--------------------+-----+\n",
      "|    12/31/2019|Vt Housing & Cons...|  9150|   0000002188|Vermont Housing &...|  Montpelier|   VT|               Trust|9150120000|1075000.0|Transfer Out - Co...|720010|Housing & Conserv...|90610|\n",
      "|    12/31/2019|Vt Housing & Cons...|  9150|   0000375660|Wagner Developmen...| Brattleboro|   VT|             VT REDI|9150293000|   4612.5|Other Direct Gran...|552990|Housing & Conserv...|90610|\n",
      "|    12/31/2019|Vt Housing & Cons...|  9150|   0000043371|Vermont Land Trus...|  Montpelier|   VT|               Trust|9150120000|112916.67|Other Direct Gran...|552990|Housing & Conserv...|90610|\n",
      "|    12/31/2019|Vt Housing & Cons...|  9150|   0000042844|University of Ver...|  Burlington|   VT| Farm Viability-VHCB|9150255000| 17152.74|Other Direct Gran...|552990|Housing & Conserv...|90610|\n",
      "|    12/31/2019|Vt Housing & Cons...|  9150|   0000160536|Lahar Stephanie &...|  Montpelier|   VT| Farm Viability-VHCB|9150255000|   4850.0|Other Direct Gran...|552990|Housing & Conserv...|90610|\n",
      "|    12/31/2019|Vt Housing & Cons...|  9150|   0000005293|Northern Communit...|St Johnsbury|   VT|             VT REDI|9150293000|   1755.0|Other Direct Gran...|552990|Housing & Conserv...|90610|\n",
      "|    12/31/2019|Vt Housing & Cons...|  9150|   0000055377|Intervale Center Inc|  Burlington|   VT|          USDA BFRDP|9150288000| 26837.54|Other Direct Gran...|552990| Federal Fund - VHCB|90630|\n",
      "|    12/31/2019|Vt Housing & Cons...|  9150|   0000055377|Intervale Center Inc|  Burlington|   VT| Farm Viability-VHCB|9150255000| 30396.35|Other Direct Gran...|552990|Housing & Conserv...|90610|\n",
      "|    12/31/2019|Vt Housing & Cons...|  9150|   0000055377|Intervale Center Inc|  Burlington|   VT|FFVP No. Borders ...|9150279000|  5430.17|Other Direct Gran...|552990| Federal Fund - VHCB|90630|\n",
      "|    12/31/2019|Vt Housing & Cons...|  9150|   0000274675|Green Mountain Fa...|     Newport|   VT| Farm Viability-VHCB|9150255000|   1000.0|Other Direct Gran...|552990|Housing & Conserv...|90610|\n",
      "|    12/31/2019|Vt Housing & Cons...|  9150|   0000380660| Community Roots LLC|   Hinesburg|   VT|          USDA BFRDP|9150288000|    787.5|Other Direct Gran...|552990| Federal Fund - VHCB|90630|\n",
      "|    12/31/2019|Vt Housing & Cons...|  9150|   0000256521|Center for an Agr...|    Hardwick|   VT| Farm Viability-VHCB|9150255000|  1233.32|Other Direct Gran...|552990|Housing & Conserv...|90610|\n",
      "|    12/31/2019|Vt Housing & Cons...|  9150|   0000003330|Windham & Windsor...| Brattleboro|   VT|National Housing ...|9150350000| 82819.24|               Loans|550240| Federal Fund - VHCB|90630|\n",
      "|    12/31/2019|Vt Housing & Cons...|  9150|   0000003330|Windham & Windsor...| Brattleboro|   VT|                HOME|9150310000| 88205.25|               Loans|550240| Federal Fund - VHCB|90630|\n",
      "|    12/31/2019|Vt Housing & Cons...|  9150|   0000002234|Vermont River Con...|  Montpelier|   VT|               Trust|9150120000| 116250.0|               Loans|550240|Housing & Conserv...|90610|\n",
      "|    12/31/2019|Vt Housing & Cons...|  9150|   0000356549|Westview Terrace ...| Springfield|   VT|Housing Taxable R...|9150200100|507006.91|               Loans|550240|Housing & Conserv...|90610|\n",
      "|    12/31/2019|Vt Housing & Cons...|  9150|   0000005660|Shires Housing, Inc.|  Bennington|   VT|Housing Taxable R...|9150200100| 98468.58|               Loans|550240|Housing & Conserv...|90610|\n",
      "|    12/31/2019|Vt Housing & Cons...|  9150|   0000004707|Housing Trust of ...|     Rutland|   VT|National Housing ...|9150350000|287636.15|               Loans|550240| Federal Fund - VHCB|90630|\n",
      "|    12/31/2019|Vt Housing & Cons...|  9150|   0000004707|Housing Trust of ...|     Rutland|   VT|                HOME|9150310000| 62936.47|               Loans|550240| Federal Fund - VHCB|90630|\n",
      "|    12/31/2019|Vt Housing & Cons...|  9150|   0000006634|Heritage Environm...|  Burlington|   VT|      Lead Abatement|9150332000|  11772.5|               Loans|550240| Federal Fund - VHCB|90630|\n",
      "+--------------+--------------------+------+-------------+--------------------+------------+-----+--------------------+----------+---------+--------------------+------+--------------------+-----+\n",
      "only showing top 20 rows\n",
      "\n"
     ]
    }
   ],
   "source": [
    "df.show()"
   ]
  },
  {
   "cell_type": "code",
   "execution_count": 11,
   "id": "2f8bb504",
   "metadata": {},
   "outputs": [
    {
     "name": "stdout",
     "output_type": "stream",
     "text": [
      "+--------------+--------------------+---------+-----+\n",
      "|Quarter Ending|          Department|   Amount|State|\n",
      "+--------------+--------------------+---------+-----+\n",
      "|Quarter Ending|Vt Housing & Cons...|1075000.0|   VT|\n",
      "|Quarter Ending|Vt Housing & Cons...|   4612.5|   VT|\n",
      "|Quarter Ending|Vt Housing & Cons...|112916.67|   VT|\n",
      "|Quarter Ending|Vt Housing & Cons...| 17152.74|   VT|\n",
      "|Quarter Ending|Vt Housing & Cons...|   4850.0|   VT|\n",
      "|Quarter Ending|Vt Housing & Cons...|   1755.0|   VT|\n",
      "|Quarter Ending|Vt Housing & Cons...| 26837.54|   VT|\n",
      "|Quarter Ending|Vt Housing & Cons...| 30396.35|   VT|\n",
      "|Quarter Ending|Vt Housing & Cons...|  5430.17|   VT|\n",
      "|Quarter Ending|Vt Housing & Cons...|   1000.0|   VT|\n",
      "|Quarter Ending|Vt Housing & Cons...|    787.5|   VT|\n",
      "|Quarter Ending|Vt Housing & Cons...|  1233.32|   VT|\n",
      "|Quarter Ending|Vt Housing & Cons...| 82819.24|   VT|\n",
      "|Quarter Ending|Vt Housing & Cons...| 88205.25|   VT|\n",
      "|Quarter Ending|Vt Housing & Cons...| 116250.0|   VT|\n",
      "|Quarter Ending|Vt Housing & Cons...|507006.91|   VT|\n",
      "|Quarter Ending|Vt Housing & Cons...| 98468.58|   VT|\n",
      "|Quarter Ending|Vt Housing & Cons...|287636.15|   VT|\n",
      "|Quarter Ending|Vt Housing & Cons...| 62936.47|   VT|\n",
      "|Quarter Ending|Vt Housing & Cons...|  11772.5|   VT|\n",
      "+--------------+--------------------+---------+-----+\n",
      "\n"
     ]
    }
   ],
   "source": [
    "#create temp table\n",
    "df.createOrReplaceTempView('VermontVendor')\n",
    "spark.sql('''SELECT 'Quarter Ending', Department, Amount, State FROM VermontVendor limit 20\n",
    "\n",
    "\n",
    "''').show()"
   ]
  },
  {
   "cell_type": "code",
   "execution_count": 12,
   "id": "3fbd9d44",
   "metadata": {},
   "outputs": [
    {
     "name": "stdout",
     "output_type": "stream",
     "text": [
      "+--------------+--------------------+---------+-----+\n",
      "|Quarter Ending|          Department|   Amount|State|\n",
      "+--------------+--------------------+---------+-----+\n",
      "|    12/31/2019|Vt Housing & Cons...|1075000.0|   VT|\n",
      "|    12/31/2019|Vt Housing & Cons...|   4612.5|   VT|\n",
      "|    12/31/2019|Vt Housing & Cons...|112916.67|   VT|\n",
      "|    12/31/2019|Vt Housing & Cons...| 17152.74|   VT|\n",
      "|    12/31/2019|Vt Housing & Cons...|   4850.0|   VT|\n",
      "|    12/31/2019|Vt Housing & Cons...|   1755.0|   VT|\n",
      "|    12/31/2019|Vt Housing & Cons...| 26837.54|   VT|\n",
      "|    12/31/2019|Vt Housing & Cons...| 30396.35|   VT|\n",
      "|    12/31/2019|Vt Housing & Cons...|  5430.17|   VT|\n",
      "|    12/31/2019|Vt Housing & Cons...|   1000.0|   VT|\n",
      "+--------------+--------------------+---------+-----+\n",
      "only showing top 10 rows\n",
      "\n"
     ]
    }
   ],
   "source": [
    "df.select('Quarter Ending', 'Department', 'Amount', 'State').show(10)"
   ]
  },
  {
   "cell_type": "code",
   "execution_count": 13,
   "id": "779f4031",
   "metadata": {},
   "outputs": [
    {
     "name": "stderr",
     "output_type": "stream",
     "text": [
      "                                                                                \r"
     ]
    }
   ],
   "source": [
    "# spark dataframe not compatible with Python Pandas.\n",
    "plot_df = spark.sql(\n",
    "'''\n",
    "SELECT Department, SUM(Amount) as Total FROM VermontVendor \n",
    "GROUP BY Department\n",
    "ORDER BY Total DESC\n",
    "LIMIT 20\n",
    "'''\n",
    ").toPandas()"
   ]
  },
  {
   "cell_type": "code",
   "execution_count": 14,
   "id": "7295564a",
   "metadata": {},
   "outputs": [
    {
     "data": {
      "image/png": "[encoded data removed]",
      "text/plain": [
       "<Figure size 720x432 with 1 Axes>"
      ]
     },
     "metadata": {
      "needs_background": "light"
     },
     "output_type": "display_data"
    }
   ],
   "source": [
    "fig,ax = plt.subplots(1,1,figsize=(10,6))\n",
    "plot_df.plot(x = 'Department', y = 'Total', kind = 'barh', color = 'C0', ax = ax, legend = False)\n",
    "ax.set_xlabel('Department', size = 16)\n",
    "ax.set_ylabel('Total', size = 16)\n",
    "plt.savefig('barplot.png')\n",
    "plt.show()"
   ]
  },
  {
   "cell_type": "code",
   "execution_count": null,
   "id": "7f09adc5",
   "metadata": {},
   "outputs": [],
   "source": []
  }
 ],
 "metadata": {
  "kernelspec": {
   "display_name": "Python 3 (ipykernel)",
   "language": "python",
   "name": "python3"
  },
  "language_info": {
   "codemirror_mode": {
    "name": "ipython",
    "version": 3
   },
   "file_extension": ".py",
   "mimetype": "text/x-python",
   "name": "python",
   "nbconvert_exporter": "python",
   "pygments_lexer": "ipython3",
   "version": "3.9.7"
  }
 },
 "nbformat": 4,
 "nbformat_minor": 5
}
