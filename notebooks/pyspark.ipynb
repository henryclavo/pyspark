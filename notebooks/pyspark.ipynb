{
 "cells": [
  {
   "cell_type": "code",
   "execution_count": 1,
   "id": "364ebd0f",
   "metadata": {},
   "outputs": [
    {
     "name": "stderr",
     "output_type": "stream",
     "text": [
      "WARNING: An illegal reflective access operation has occurred\n",
      "WARNING: Illegal reflective access by org.apache.spark.unsafe.Platform (file:/usr/local/spark-3.1.2-bin-hadoop3.2/jars/spark-unsafe_2.12-3.1.2.jar) to constructor java.nio.DirectByteBuffer(long,int)\n",
      "WARNING: Please consider reporting this to the maintainers of org.apache.spark.unsafe.Platform\n",
      "WARNING: Use --illegal-access=warn to enable warnings of further illegal reflective access operations\n",
      "WARNING: All illegal access operations will be denied in a future release\n",
      "21/10/06 00:24:00 WARN NativeCodeLoader: Unable to load native-hadoop library for your platform... using builtin-java classes where applicable\n",
      "Using Spark's default log4j profile: org/apache/spark/log4j-defaults.properties\n",
      "Setting default log level to \"WARN\".\n",
      "To adjust logging level use sc.setLogLevel(newLevel). For SparkR, use setLogLevel(newLevel).\n"
     ]
    },
    {
     "name": "stdout",
     "output_type": "stream",
     "text": [
      "+------------------+----+\n",
      "|              name| age|\n",
      "+------------------+----+\n",
      "|  Albus Dumbledore| 150|\n",
      "|Minerva McGonagall|  70|\n",
      "|     Rubeus Hagrid|  63|\n",
      "|       Oliver Wood|  18|\n",
      "|      Harry Potter|  12|\n",
      "|       Ron Weasley|  12|\n",
      "|          Hermione|  13|\n",
      "|      Draco Malfoy|null|\n",
      "+------------------+----+\n",
      "\n"
     ]
    }
   ],
   "source": [
    "import pyspark\n",
    "\n",
    "spark = pyspark.sql.SparkSession.builder\\\n",
    "    .appName('hogwarts')\\\n",
    "    .getOrCreate()\n",
    "\n",
    "characters = [\n",
    "    (\"Albus Dumbledore\", 150),\n",
    "    (\"Minerva McGonagall\", 70),\n",
    "    (\"Rubeus Hagrid\", 63),\n",
    "    (\"Oliver Wood\", 18),\n",
    "    (\"Harry Potter\", 12),\n",
    "    (\"Ron Weasley\", 12),\n",
    "    (\"Hermione\", 13),\n",
    "    (\"Draco Malfoy\", None)\n",
    "]\n",
    "\n",
    "c_df = spark.createDataFrame(characters, [\"name\", \"age\"])    \n",
    "\n",
    "c_df.show()"
   ]
  },
  {
   "cell_type": "code",
   "execution_count": null,
   "id": "88dbe083",
   "metadata": {},
   "outputs": [],
   "source": []
  }
 ],
 "metadata": {
  "kernelspec": {
   "display_name": "Python 3 (ipykernel)",
   "language": "python",
   "name": "python3"
  },
  "language_info": {
   "codemirror_mode": {
    "name": "ipython",
    "version": 3
   },
   "file_extension": ".py",
   "mimetype": "text/x-python",
   "name": "python",
   "nbconvert_exporter": "python",
   "pygments_lexer": "ipython3",
   "version": "3.9.7"
  }
 },
 "nbformat": 4,
 "nbformat_minor": 5
}
